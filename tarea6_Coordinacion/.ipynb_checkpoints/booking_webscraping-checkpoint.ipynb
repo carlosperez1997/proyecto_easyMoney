{
 "cells": [
  {
   "cell_type": "code",
   "execution_count": 1,
   "metadata": {},
   "outputs": [],
   "source": [
    "from  selenium import webdriver\n",
    "from bs4 import BeautifulSoup\n",
    "import pandas as pd\n",
    "import numpy as np\n",
    "import time\n",
    "import os\n",
    "from os.path  import basename\n",
    "import requests\n",
    "from webdriver_manager.chrome import ChromeDriverManager"
   ]
  },
  {
   "cell_type": "code",
   "execution_count": 2,
   "metadata": {},
   "outputs": [
    {
     "name": "stderr",
     "output_type": "stream",
     "text": [
      "\n",
      "\n",
      "====== WebDriver manager ======\n",
      "Current google-chrome version is 91.0.4472\n",
      "Get LATEST driver version for 91.0.4472\n",
      "Driver [/Users/carlosperezricardo/.wdm/drivers/chromedriver/mac64/91.0.4472.19/chromedriver] found in cache\n"
     ]
    }
   ],
   "source": [
    "driver = webdriver.Chrome(ChromeDriverManager().install())"
   ]
  },
  {
   "cell_type": "code",
   "execution_count": 3,
   "metadata": {},
   "outputs": [],
   "source": [
    "url = 'http://www.booking.es'"
   ]
  },
  {
   "cell_type": "code",
   "execution_count": 4,
   "metadata": {},
   "outputs": [],
   "source": [
    "driver.get(url)\n",
    "time.sleep(4)"
   ]
  },
  {
   "cell_type": "code",
   "execution_count": 5,
   "metadata": {},
   "outputs": [],
   "source": [
    "driver.find_element_by_id(\"onetrust-accept-btn-handler\").click()"
   ]
  },
  {
   "cell_type": "code",
   "execution_count": 6,
   "metadata": {},
   "outputs": [
    {
     "name": "stdout",
     "output_type": "stream",
     "text": [
      "0 EUR\n",
      "Elegir tu moneda. Tu moneda actual es Euro\n",
      "1 Elegir el idioma que prefieres. Tu idioma actual es Español\n",
      "2 Registra tu alojamiento\n",
      "3 Hazte una cuenta\n",
      "4 Inicia sesión\n",
      "5 \n",
      "6 \n",
      "7 \n",
      "8 \n",
      "9 \n",
      "10 \n",
      "11 Ver las ofertas\n",
      "12 ¡Quiero suscribirme!\n",
      "13 Descubre las casas\n",
      "14 Ver casas\n",
      "15 \n"
     ]
    }
   ],
   "source": [
    "# Login\n",
    "lista_botones = driver.find_elements_by_class_name(\"bui-button__text\")\n",
    "for i in lista_botones:\n",
    "    print( lista_botones.index(i), i.text)"
   ]
  },
  {
   "cell_type": "code",
   "execution_count": 7,
   "metadata": {},
   "outputs": [],
   "source": [
    "def imprime_botones(nombreClase):\n",
    "    lista_botones = driver.find_elements_by_class_name(nombreClase)\n",
    "    names = []\n",
    "    \n",
    "    for i in lista_botones:\n",
    "        names.append(i.text)\n",
    "        print( lista_botones.index(i), i.text)\n",
    "        \n",
    "    return names, lista_botones\n",
    "    "
   ]
  },
  {
   "cell_type": "code",
   "execution_count": 8,
   "metadata": {},
   "outputs": [
    {
     "name": "stdout",
     "output_type": "stream",
     "text": [
      "0 EUR\n",
      "Elegir tu moneda. Tu moneda actual es Euro\n",
      "1 Elegir el idioma que prefieres. Tu idioma actual es Español\n",
      "2 Registra tu alojamiento\n",
      "3 Hazte una cuenta\n",
      "4 Inicia sesión\n",
      "5 \n",
      "6 \n",
      "7 \n",
      "8 \n",
      "9 \n",
      "10 \n",
      "11 Ver las ofertas\n",
      "12 ¡Quiero suscribirme!\n",
      "13 Descubre las casas\n",
      "14 Ver casas\n",
      "15 \n"
     ]
    }
   ],
   "source": [
    "names, lista_botones = imprime_botones('bui-button__text')"
   ]
  },
  {
   "cell_type": "code",
   "execution_count": 9,
   "metadata": {},
   "outputs": [],
   "source": [
    "lista_botones[4].click()"
   ]
  },
  {
   "cell_type": "code",
   "execution_count": 10,
   "metadata": {},
   "outputs": [],
   "source": [
    "driver.find_element_by_id(\"username\").send_keys(\"carlos.peri.1997@gmail.com\")"
   ]
  },
  {
   "cell_type": "code",
   "execution_count": 11,
   "metadata": {},
   "outputs": [
    {
     "name": "stdout",
     "output_type": "stream",
     "text": [
      "0 \n",
      "1 Continuar con e-mail\n"
     ]
    }
   ],
   "source": [
    "names, lista_botones = imprime_botones('bui-button__text')"
   ]
  },
  {
   "cell_type": "code",
   "execution_count": 12,
   "metadata": {},
   "outputs": [],
   "source": [
    "lista_botones[1].click()"
   ]
  },
  {
   "cell_type": "code",
   "execution_count": 13,
   "metadata": {},
   "outputs": [],
   "source": [
    "driver.find_element_by_id(\"username\").send_keys(\"carlos.peri.1997@gmail.com\")"
   ]
  }
 ],
 "metadata": {
  "kernelspec": {
   "display_name": "Python 3.8.5 64-bit ('base': conda)",
   "language": "python",
   "name": "python385jvsc74a57bd01f1ade11a66f379951eb785ed5ab9940defd282e53b6a037182efca5c962c31b"
  },
  "language_info": {
   "codemirror_mode": {
    "name": "ipython",
    "version": 3
   },
   "file_extension": ".py",
   "mimetype": "text/x-python",
   "name": "python",
   "nbconvert_exporter": "python",
   "pygments_lexer": "ipython3",
   "version": "3.8.5"
  }
 },
 "nbformat": 4,
 "nbformat_minor": 4
}
