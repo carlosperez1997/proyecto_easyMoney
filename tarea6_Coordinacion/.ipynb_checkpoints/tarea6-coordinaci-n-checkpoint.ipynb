{
 "cells": [
  {
   "cell_type": "markdown",
   "metadata": {},
   "source": [
    "# Tarea 6: Coordinación\n",
    "\n",
    "<a href=\"https://github.com/carlosperez1997/proyecto_easyMoney/blob/main/README.md\" target=\"_blank\">Volver a Página Principal</a>\n",
    "\n",
    "El objetivo de esta tarea es determinar el proceso de coordinación y validación de los cambios y mejoras que se implementen en los modelos opertativos como en el dashboard. Según nos comenta Dan, debe existir un proceso de validación de informes y análisis; y un plan de proyecto sobre la gestión y coordinación de las tareas que se nos ha encargado. \n",
    "\n",
    "## Tabla de Contenidos <a class=\"anchor\" id=\"0\"></a>\n",
    "\n",
    "1. [Gestión del código](#1) <br>\n",
    "    1.1 [Documentación del código](#11) <br>\n",
    "2. [Metodología de trabajo](#2) <br>\n",
    "    2.1 [Selección de la metodología de trabajo](#21) <br>\n",
    "3. [Seguimiento de los proyectos y procesos](#3) <br>\n",
    "4. [Conclusiones](#4) <br>"
   ]
  },
  {
   "cell_type": "markdown",
   "metadata": {},
   "source": [
    "# Gestión del código <a class=\"anchor\" id=\"1\"></a>\n",
    "\n",
    "[Tabla de Contenidos](#0)\n",
    "\n",
    "Para la gestión del código la mejor opción es optar por Git, en concreto por GitHub. De esta manera los desarrolladores de software y Data Scientist pueden tener el código controlado. Esta herramienta es de gran ayuda para el control de versiones y permite asegurar que todo los desarrolladores están trabajando con la misma versión del código y no se pierden ningún nuevo feature o cambio en el código.\n",
    "\n",
    "Además herramientas como git ofrecen la capacidad de trabajar en ramas, normalmente la master branch está el código que se lleva a producción, código que se asegure que no falle y otra rama los desarrolladores (normalmente la develop) introducen nuevos cambios. Estos cambios son introducidos mediante un push con un previo commit, y estos cambios suele aprobarlos el manager. \n",
    "\n",
    "De esta manera se asegura que los nuevos cambios introducidos pasen un proceso de aprobación y se asegure que el código continúa siendo fiable y funcionando correctamente.\n",
    "\n",
    "GitHub es gratuito, aunque existen opciones de pago; también existen otras opciones como BitBucket que incorpora JIRA para el control de tareas. \n",
    "\n",
    "## Documentación del código <a class=\"anchor\" id=\"11\"></a>\n",
    "\n",
    "[Tabla de Contenidos](#0)\n",
    "\n",
    "Un aspecto a menudo olvidado es la documentación del código. Tanto documentación del documento para el entendimiento y comprensión del modelo o proyecto para personas que no tienen porqué tener un conocimiento técnico y específico del mundo de Data Science, como también una documentación más técnica y detallada enfocada más a los desarrolladores.\n",
    "\n",
    "Esta documentación será de gran ayuda para agilizar y ayudar a la entrada de nuevos desarrolladores al equipo de Data Science como también para explicar el funcionamiento del modelo al resto de personas de la empresa. \n",
    "\n",
    "Una buena documentación debe contener lo siguiente:\n",
    "- Para cada función debe existir una breve descripción de qué realiza, qué inputs recibe, qué output da... Cuál fue su última revisión. Los nombres de las funciones y variables dentro de ellas deben ser totalmente comprensibles.\n",
    "- Las funciones deben ser cortas y realizar si es posible una única acción. Y los scripts deben incluir una secuencia de funciones. Una buena manera es seguir el método de pipeline. \n",
    "- Se debe evitar añadir mucho texto en el código, explicaciones o clarificaciones del código deberán ser incluidas en otra memoria siendo esta una memoria técnica. \n",
    "\n",
    "En definitiva seguir los principios <a href=\"https://www.amazon.es/Clean-Code-Handbook-Software-Craftsmanship/dp/0132350882/ref=asc_df_0132350882/?tag=googshopes-21&linkCode=df0&hvadid=54582498915&hvpos=&hvnetw=g&hvrand=8434450898456343732&hvpone=&hvptwo=&hvqmt=&hvdev=c&hvdvcmdl=&hvlocint=&hvlocphy=20297&hvtargid=pla-82950747900&psc=1\">Clean Code</a>, escribiendo código fácil de mantener, de debugear, de entender y fácil de escalar y añadir nuevos features. Si en algún caso el código deja de ser así, se sugiere encarecidamente una refactorización. \n",
    "\n",
    "Si el proyecto toma grandes dimensiones se recomienda construir un paquete propio de la empresa en Python o R, donde se guarden las funciones, nombres de directorios, etc. Y este paquete pueda ser utilizado por todos los desarrolladores."
   ]
  },
  {
   "cell_type": "markdown",
   "metadata": {},
   "source": [
    "# Metodología de trabajo <a class=\"anchor\" id=\"2\"></a>\n",
    "\n",
    "[Tabla de Contenidos](#0)\n",
    "\n",
    "En el mundo del software se vio que las <a href=\"https://www.linkedin.com/pulse/en-qu%C3%A9-se-diferencian-las-metodolog%C3%ADas-de-desarrollo-agile-broveglio/?originalSubdomain=es5\">metodologías de trabajo</a> más convencionales no funcionaban correctamente, por lo que surgió la metodología Agile para resolver este problema. La metodología más tradicional proviniente del mundo industrial consistía en plantear el problema y sus requirimientos al inicio, crear la solución y producto final y entregarlo al cliente. Lo que solía ocurrir era que el producto final era muy diferente a lo que el cliente esperaba por lo que tras varios rechazos, ingenieros de software entre ellos Alistair Cockburn inició el movimiento de metodología ágil.\n",
    "\n",
    "Su principio se basa en dividir el proyecto en pequeñas tareas y cada una de ellas es mostrada al cliente (o al jefe en su defecto) para así recibir su feedback y aprobación. De esta manera se prioriza construir un Minimum Viable Product (MVP) en fases iniciales del proceso e ir añadiendo features \"on top\" a este MVP. Finalmente, obteniendo un producto donde cada feature ha sido aprobada por el cliente. \n",
    "\n",
    "Mientras que Waterfall o cascada, modelo tradicional de desarrollo donde las etapas de Análisis de Requisitos, Diseño, Desarrollo, Testing e Implementación están muy bien definidas. En Agile el foco está en realizar entregas incrementales de producto donde el cliente está involucrado en el proceso. Se generan mejoras sobre el producto mínimo ya producido.\n",
    "\n",
    "## Selección de la metodología de trabajo <a class=\"anchor\" id=\"21\"></a>\n",
    "\n",
    "[Tabla de Contenidos](#0)\n",
    "\n",
    "Tratándose de un proyecto de Data Science donde existe un gran componente de desarrollo de software se opta por la metodología Agile, más concretamente en Scrum.\n",
    "\n",
    "Scrum es una metodología basada en la agilidad aplicando un ciclo de vida iterativo e incremental liberando producto de manera periódica siendo los recursos y el tiempo las variables fijas de la triple restricción. Se trabaja en sprints de 2 semanas (normalmente) donde un desarollador o grupo de desarrolladores se dedican a generar el nuevo feature del modelo, en mejorar cierto aspecto, refactorizar el código o debugear y solucionar algún error. \n",
    "\n",
    "Normalmente en Scrum se trabaja con una Scrum board como la de la siguiente imagen."
   ]
  },
  {
   "cell_type": "code",
   "execution_count": 1,
   "metadata": {
    "execution": {
     "iopub.execute_input": "2021-06-05T18:37:59.562898Z",
     "iopub.status.busy": "2021-06-05T18:37:59.560758Z",
     "iopub.status.idle": "2021-06-05T18:37:59.575975Z",
     "shell.execute_reply": "2021-06-05T18:37:59.574985Z",
     "shell.execute_reply.started": "2021-06-05T18:37:59.562757Z"
    }
   },
   "outputs": [
    {
     "data": {
      "text/html": [
       "<img src=\"https://www.zohowebstatic.com/sites/default/files/sprints/seo/sb-how-img3.webp\"/>"
      ],
      "text/plain": [
       "<IPython.core.display.Image object>"
      ]
     },
     "execution_count": 1,
     "metadata": {},
     "output_type": "execute_result"
    }
   ],
   "source": [
    "from IPython.display import Image\n",
    "Image(url='https://www.zohowebstatic.com/sites/default/files/sprints/seo/sb-how-img3.webp') "
   ]
  },
  {
   "cell_type": "markdown",
   "metadata": {},
   "source": [
    "La lista de tareas se coloca en el BackLog, el que ha colocado la tarea o bien el manager la tarea suele redactar una story de la tarea describiendo en qué consiste el nuevo feature, que se debe mejorar; cuanto más detallado mejor. A cada una de estas tareas se les anota un tiempo (en horas o días) o units del tiempo que va a llevar realizarla. Normalmente estas units se expresan como números de fibonacci: 1, 2, 3, 5, 8, 13, 21... \n",
    "\n",
    "Tras haber realizado el story de cada tarea, el manager escoge que tareas serán realizadas durante este sprint. Y tras ello son asignadas o escogidas por cada desarrollador o grupo de desarrolladores. La tarea pasa del Back Log y Story a To Do y después a Doing, de esta manera se conoce en cada instante en que task está cada uno trabajando. \n",
    "\n",
    "Al acabar la tarea, la tarea pasa a Review o Testing donde el equipo de software o manager valida que la tarea esté realizando correctamente, tras haber sido testeada y aprobada pasa a Done. En Done la nueva feature o solución al debug es introducida con un push a la rama de master. \n",
    "\n",
    "Si el equipo de Data Science trabaja presencialmente en la misma oficina tener una Scrum Board puede ser una gran opción. En algunas empresas incluso tienen una Scrum Room llena de post-its con todas las tareas. \n",
    "\n",
    "Sin embargo, si el equipo trabaja remotamente una opción muy factible es utilizar JIRA que ofrece las mismos beneficios y permite documentar las tareas, asignarlas a cada desarrollador, añadirlas al backlog... JIRA pertenece a Atlassian, misma empresa que BitBucket y Trello. "
   ]
  },
  {
   "cell_type": "markdown",
   "metadata": {},
   "source": [
    "# Seguimiento de los proyectos y procesos <a class=\"anchor\" id=\"3\"></a>\n",
    "\n",
    "[Tabla de Contenidos](#0)\n",
    "\n",
    "Con el objetivo de poder conocer diariamente el estado, resultados de cualquier proyecto la construcción de un report que puede ser enviado por email a los responsables y directivos de la empresa de manera diaria o semanal es la mejor manera de mantenerlos informados y atentos a cualquier tipo de error, incongruencia o detalle que se escape.\n",
    "\n",
    "En este report semanal, a parte del dashboard, se puede informar a los responsables de las altas, bajas, ingresos, altas pendientes de cobro, resultados del modelo, qué tal han ido las predicciones... Ofreciendo una imagen global en un simple email. Los emails suelen ser la manera más común de comunicación y envío de información en una empresa por lo que realizar reports periódicos del equipo de Data Science es necesario.\n",
    "\n",
    "Además se recomienda añadir un log del workflow código, de esta manera se puede observar en que paso se ha fallado en proceso automatizados (como puede ser la actualización de las tablas intermedias para su visualización en el dashboard)."
   ]
  },
  {
   "cell_type": "markdown",
   "metadata": {},
   "source": [
    "# Conclusiones <a class=\"anchor\" id=\"4\"></a>\n",
    "\n",
    "[Tabla de Contenidos](#0)\n",
    "\n",
    "El objetivo de esta tarea era determinar la metodología de trabajo, y la comunicación y organización tanto interna (entre el mismo equipo de Data Sciente) como externa con el comité directivo, otros responsables y departamentos. \n",
    "\n",
    "Primeramente, se determinó que directrices seguir y programario se utilizará en cuanto a la gestión del código; haciendo hincapié en buenas practices y generando una buena documentación del código. Después se seleccionó la metodología de trabajo, escogiendo trabajar con la metodología ágil Scrum, trabajando en sprints y adoptando la mejora continua, mejorando el producto y recibiendo feedback de los clientes y directivos cuanto antes mejor. \n",
    "\n",
    "Y finalmente se determinaron que comunicación sería la idónea para informar a otros responsables y dentro del equipo, para estar al tanto de cualquier error y recibir feedback de la performance y estado de los modelos con frecuencia de una manera automatizada."
   ]
  }
 ],
 "metadata": {
  "kernelspec": {
   "display_name": "Python 3",
   "language": "python",
   "name": "python3"
  },
  "language_info": {
   "codemirror_mode": {
    "name": "ipython",
    "version": 3
   },
   "file_extension": ".py",
   "mimetype": "text/x-python",
   "name": "python",
   "nbconvert_exporter": "python",
   "pygments_lexer": "ipython3",
   "version": "3.8.5"
  }
 },
 "nbformat": 4,
 "nbformat_minor": 4
}
