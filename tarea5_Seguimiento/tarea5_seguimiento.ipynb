{
 "cells": [
  {
   "cell_type": "markdown",
   "metadata": {},
   "source": [
    "# Tarea 5: Seguimiento \n",
    "\n",
    "<a href=\"https://github.com/carlosperez1997/proyecto_easyMoney/blob/main/README.md\" target=\"_blank\">Volver a Página Principal</a>\n",
    "\n",
    "En esta tarea se definen una serie de KPIs para el seguimiento de la campaña y el correcto funcionamiento de los modelos. Las KPIs desarrolladas pueden visualizarse en este <a href=\"https://docs.google.com/spreadsheets/d/134JaXN594ThNGJAaDMAaJP-jOTV8xTEcMSzWfYbr4fE/edit?usp=sharing\" target=\"_blank\">link</a>."
   ]
  }
 ],
 "metadata": {
  "kernelspec": {
   "display_name": "Python 3.8.5 64-bit ('base': conda)",
   "language": "python",
   "name": "python385jvsc74a57bd01f1ade11a66f379951eb785ed5ab9940defd282e53b6a037182efca5c962c31b"
  },
  "language_info": {
   "codemirror_mode": {
    "name": "ipython",
    "version": 3
   },
   "file_extension": ".py",
   "mimetype": "text/x-python",
   "name": "python",
   "nbconvert_exporter": "python",
   "pygments_lexer": "ipython3",
   "version": "3.8.5"
  }
 },
 "nbformat": 4,
 "nbformat_minor": 4
}
